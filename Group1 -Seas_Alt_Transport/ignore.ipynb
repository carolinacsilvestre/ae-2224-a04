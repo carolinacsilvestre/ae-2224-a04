{
 "cells": [
  {
   "cell_type": "code",
   "execution_count": 3,
   "metadata": {},
   "outputs": [
    {
     "ename": "NameError",
     "evalue": "name 'TrendMap' is not defined",
     "output_type": "error",
     "traceback": [
      "\u001b[1;31m---------------------------------------------------------------------------\u001b[0m",
      "\u001b[1;31mNameError\u001b[0m                                 Traceback (most recent call last)",
      "Cell \u001b[1;32mIn[3], line 3\u001b[0m\n\u001b[0;32m      1\u001b[0m \u001b[39mimport\u001b[39;00m \u001b[39mGroup4_version_MainV3\u001b[39;00m\n\u001b[1;32m----> 3\u001b[0m flux_list\u001b[39m=\u001b[39mTrendMap(\u001b[39m0\u001b[39m)\n\u001b[0;32m      4\u001b[0m lat \u001b[39m=\u001b[39m np\u001b[39m.\u001b[39mlinspace(\u001b[39m-\u001b[39m\u001b[39m90\u001b[39m,\u001b[39m90\u001b[39m,\u001b[39mint\u001b[39m(rows)\u001b[39m+\u001b[39m\u001b[39m1\u001b[39m)  \u001b[39m# define x as an array with 4 elements\u001b[39;00m\n\u001b[0;32m      5\u001b[0m lon \u001b[39m=\u001b[39m np\u001b[39m.\u001b[39mlinspace(\u001b[39m-\u001b[39m\u001b[39m180\u001b[39m,\u001b[39m180\u001b[39m,\u001b[39mint\u001b[39m(columns)\u001b[39m+\u001b[39m\u001b[39m1\u001b[39m)\n",
      "\u001b[1;31mNameError\u001b[0m: name 'TrendMap' is not defined"
     ]
    }
   ],
   "source": [
    "import Group4_version_MainV3\n",
    "\n",
    "flux_list=TrendMap(0)\n",
    "lat = np.linspace(-90,90,int(rows)+1)  # define x as an array with 4 elements\n",
    "lon = np.linspace(-180,180,int(columns)+1)\n",
    "#Set up axis object for plotting the map\n",
    "fig, ax = plt.subplots() #Subplots are useful for drawing multiple plots together\n",
    "    \n",
    "#Adjust dimensions of map plot\n",
    "fig.set_figheight(8)\n",
    "fig.set_figwidth(14)\n",
    "    \n",
    "#Define map projection and settings\n",
    "#For more info: https://matplotlib.org/basemap/users/cyl.html\n",
    "mp = Basemap(projection = 'cyl', #equidistant cylindrical projection\n",
    "                         llcrnrlon = -180,\n",
    "                         llcrnrlat = -90,\n",
    "                         urcrnrlon = 180,\n",
    "                         urcrnrlat = 90,\n",
    "                         resolution = 'i', ax=ax) #h=high, f=full, i=intermediate, c=crude\n",
    "    \n",
    "#Shift the fluxes from [0,360] to [-180,180]\n",
    "#net_flx_EP_shft, lons_shft = shiftgrid(180.,global_net_flx[1], lons_0to36,start=False)\n",
    "    \n",
    "#Format the lat and lon arrays for map graphing, \n",
    "#makes lat array a lat x lon array and same for lon array\n",
    "#lon, lat = np.meshgrid(lons_shft, lats)\n",
    "x, y = mp(lon, lat)\n",
    "    \n",
    "#Choose the settings for the coastlines, countries, meridians...\n",
    "mp.drawcoastlines(linewidth=0.2)\n",
    "mp.drawcountries(linewidth=0.2)\n",
    "    \n",
    "meridians = mp.drawmeridians(np.arange(-180,200,20), \n",
    "                         labels=[False,False,False,True], \n",
    "                         linewidth=0.2, fontsize=10) #Draw lon lines every 20º\n",
    "    \n",
    "mp.drawparallels(np.arange(-90,110,20), \n",
    "                         labels=[True,False,False,True], \n",
    "                         linewidth=0.2, fontsize=10) #Draw lat lines every 20º\n",
    "    \n",
    "#Set up custom colorbar, colors may be chosen with the help from colorbrewer2.org\n",
    "colors = [\"#ffffff\", \"#fec44f\", \"#d95f0e\", \"#e34a33\", \"#b30000\"]\n",
    "cmap= matplotlib.colors.ListedColormap(colors)\n",
    "    \n",
    "cmap.set_under(\"w\")\n",
    "cmap.set_over(\"red\")\n",
    "    \n",
    "   \n",
    "#Plot the flux on the map\n",
    "sc2 = mp.pcolor(x, y, flux_list,\n",
    "                    cmap='RdYlGn_r',shading='auto')\n",
    "    \n",
    "#Define colorbar features\n",
    "cb = fig.colorbar(sc2, extend='both', \n",
    "                     orientation='horizontal',fraction=0.052, \n",
    "                      pad=0.065)\n",
    "    \n",
    "#Adjust colorbar tickmark size\n",
    "cb.ax.tick_params(labelsize=14)\n",
    "    \n",
    "#Label the colorbar\n",
    "cb.set_label(label=\"Radiative Forcing due to emissions from every emission point\",size=14,weight='bold')\n",
    "    \n",
    "    #Save and close the map plot\n",
    "plt.show()\n",
    "plt.close()"
   ]
  }
 ],
 "metadata": {
  "kernelspec": {
   "display_name": "Python 3",
   "language": "python",
   "name": "python3"
  },
  "language_info": {
   "codemirror_mode": {
    "name": "ipython",
    "version": 3
   },
   "file_extension": ".py",
   "mimetype": "text/x-python",
   "name": "python",
   "nbconvert_exporter": "python",
   "pygments_lexer": "ipython3",
   "version": "3.10.4"
  },
  "orig_nbformat": 4
 },
 "nbformat": 4,
 "nbformat_minor": 2
}
